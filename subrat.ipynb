{
  "metadata": {
    "language_info": {
      "codemirror_mode": {
        "name": "python",
        "version": 3
      },
      "file_extension": ".py",
      "mimetype": "text/x-python",
      "name": "python",
      "nbconvert_exporter": "python",
      "pygments_lexer": "ipython3",
      "version": "3.8"
    },
    "kernelspec": {
      "name": "python",
      "display_name": "Python (Pyodide)",
      "language": "python"
    }
  },
  "nbformat_minor": 4,
  "nbformat": 4,
  "cells": [
    {
      "cell_type": "code",
      "source": "#using append()\ndef make_matrix(m, n):\n  arr=[]\n  for i in range(m):\n    list = []\n    for j in range(n):\n      input = int(input(\"enter element \", j, \"of row \",i, \":  \"))\n      list.append(input)\n    arr.append(list)\n  \n  print(arr)\n\n#using entry_fn fundtion\ndef entry_fn(i, j):\n    if i == 0:\n        return j\n    elif i == 1:\n        return j+1\n    elif i == 2:\n        return j+2\n\n        \nMAT = [[entry_fn(i, j ) for j in range(3)] for i in range(3)]\nprint(MAT)",
      "metadata": {
        "trusted": true
      },
      "execution_count": 1,
      "outputs": [
        {
          "name": "stdout",
          "text": "[[0, 1, 2], [1, 2, 3], [2, 3, 4]]\n",
          "output_type": "stream"
        }
      ]
    },
    {
      "cell_type": "code",
      "source": "",
      "metadata": {},
      "execution_count": null,
      "outputs": []
    }
  ]
}